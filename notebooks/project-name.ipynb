{
  "nbformat": 4,
  "nbformat_minor": 0,
  "metadata": {
    "colab": {
      "name": "project-name.ipynb",
      "provenance": [],
      "collapsed_sections": []
    },
    "kernelspec": {
      "name": "python3",
      "display_name": "Python 3"
    }
  },
  "cells": [
    {
      "cell_type": "markdown",
      "metadata": {
        "id": "WCDxGqS1AQ2Y"
      },
      "source": [
        "Install keras, and tensorflow for CPU and GPU with"
      ]
    },
    {
      "cell_type": "code",
      "metadata": {
        "id": "eETrF7KyAKeJ"
      },
      "source": [
        "!pip install tensorflow\n",
        "!pip install tensorflow-gpu\n",
        "!pip install keras"
      ],
      "execution_count": null,
      "outputs": []
    },
    {
      "cell_type": "markdown",
      "metadata": {
        "id": "ZxE5q5ZHAVZY"
      },
      "source": [
        "Import modules"
      ]
    },
    {
      "cell_type": "code",
      "metadata": {
        "id": "V5yf9uIpAUlp"
      },
      "source": [
        "import tensorflow as tf\n",
        "import matplotlib.pyplot as plt\n",
        "import keras\n",
        "import numpy as np\n",
        "import pandas as pd\n",
        "from google.colab import files"
      ],
      "execution_count": null,
      "outputs": []
    },
    {
      "cell_type": "markdown",
      "metadata": {
        "id": "mhLPMqR9Axla"
      },
      "source": [
        ""
      ]
    },
    {
      "cell_type": "code",
      "metadata": {
        "id": "m8l3mDDwAfNg"
      },
      "source": [
        "print(tf.__version__)\n",
        "print(keras.__version__)"
      ],
      "execution_count": null,
      "outputs": []
    },
    {
      "cell_type": "markdown",
      "metadata": {
        "id": "g0oAafkUAyBM"
      },
      "source": [
        "Check version using"
      ]
    },
    {
      "cell_type": "code",
      "metadata": {
        "id": "QE7uWCIgAm2j"
      },
      "source": [
        "!wget -cq **dataset-file-link**"
      ],
      "execution_count": null,
      "outputs": []
    },
    {
      "cell_type": "markdown",
      "metadata": {
        "id": "mT8NbDzjAybG"
      },
      "source": [
        "Import and unzip datasets using"
      ]
    },
    {
      "cell_type": "code",
      "metadata": {
        "id": "q2oPMRgRAqE0"
      },
      "source": [
        "!wget -cq **zip-file-link**\n",
        "!unzip -qq **zip-file**"
      ],
      "execution_count": null,
      "outputs": []
    },
    {
      "cell_type": "markdown",
      "metadata": {
        "id": "6qyQdyXHAzCw"
      },
      "source": [
        "Add check for GPU usage using"
      ]
    },
    {
      "cell_type": "code",
      "metadata": {
        "id": "RR1QQAOOAshc"
      },
      "source": [
        "device_name = tf.test.gpu_device_name()\n",
        "if device_name != '/device:GPU:0':\n",
        "    raise SystemError(\"GPU device not found\")\n",
        "print(f'Found GPU at: {device_name}')"
      ],
      "execution_count": null,
      "outputs": []
    },
    {
      "cell_type": "markdown",
      "metadata": {
        "id": "fTnTN0yzA8hY"
      },
      "source": [
        "Write Code"
      ]
    },
    {
      "cell_type": "code",
      "metadata": {
        "id": "f9gdUTp5A7zH"
      },
      "source": [
        ""
      ],
      "execution_count": null,
      "outputs": []
    }
  ]
}

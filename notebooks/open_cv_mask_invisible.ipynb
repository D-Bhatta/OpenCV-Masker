{
  "nbformat": 4,
  "nbformat_minor": 0,
  "metadata": {
    "colab": {
      "name": "open_cv_mask_invisible.ipynb",
      "provenance": [],
      "collapsed_sections": []
    },
    "kernelspec": {
      "name": "python3",
      "display_name": "Python 3"
    }
  },
  "cells": [
    {
      "cell_type": "markdown",
      "metadata": {
        "id": "WCDxGqS1AQ2Y"
      },
      "source": [
        "Install keras, and tensorflow for CPU and GPU with"
      ]
    },
    {
      "cell_type": "code",
      "metadata": {
        "id": "eETrF7KyAKeJ",
        "outputId": "c7cf015a-a60f-4ca7-e330-999bc805713a",
        "colab": {
          "base_uri": "https://localhost:8080/",
          "height": 1000
        }
      },
      "source": [
        "!pip install tensorflow\n",
        "!pip install tensorflow-gpu\n",
        "!pip install keras"
      ],
      "execution_count": null,
      "outputs": [
        {
          "output_type": "stream",
          "text": [
            "Requirement already satisfied: tensorflow in /usr/local/lib/python3.6/dist-packages (2.3.0)\n",
            "Requirement already satisfied: termcolor>=1.1.0 in /usr/local/lib/python3.6/dist-packages (from tensorflow) (1.1.0)\n",
            "Requirement already satisfied: wrapt>=1.11.1 in /usr/local/lib/python3.6/dist-packages (from tensorflow) (1.12.1)\n",
            "Requirement already satisfied: wheel>=0.26 in /usr/local/lib/python3.6/dist-packages (from tensorflow) (0.35.1)\n",
            "Requirement already satisfied: google-pasta>=0.1.8 in /usr/local/lib/python3.6/dist-packages (from tensorflow) (0.2.0)\n",
            "Requirement already satisfied: h5py<2.11.0,>=2.10.0 in /usr/local/lib/python3.6/dist-packages (from tensorflow) (2.10.0)\n",
            "Requirement already satisfied: six>=1.12.0 in /usr/local/lib/python3.6/dist-packages (from tensorflow) (1.15.0)\n",
            "Requirement already satisfied: numpy<1.19.0,>=1.16.0 in /usr/local/lib/python3.6/dist-packages (from tensorflow) (1.18.5)\n",
            "Requirement already satisfied: gast==0.3.3 in /usr/local/lib/python3.6/dist-packages (from tensorflow) (0.3.3)\n",
            "Requirement already satisfied: keras-preprocessing<1.2,>=1.1.1 in /usr/local/lib/python3.6/dist-packages (from tensorflow) (1.1.2)\n",
            "Requirement already satisfied: opt-einsum>=2.3.2 in /usr/local/lib/python3.6/dist-packages (from tensorflow) (3.3.0)\n",
            "Requirement already satisfied: tensorflow-estimator<2.4.0,>=2.3.0 in /usr/local/lib/python3.6/dist-packages (from tensorflow) (2.3.0)\n",
            "Requirement already satisfied: protobuf>=3.9.2 in /usr/local/lib/python3.6/dist-packages (from tensorflow) (3.12.4)\n",
            "Requirement already satisfied: grpcio>=1.8.6 in /usr/local/lib/python3.6/dist-packages (from tensorflow) (1.32.0)\n",
            "Requirement already satisfied: tensorboard<3,>=2.3.0 in /usr/local/lib/python3.6/dist-packages (from tensorflow) (2.3.0)\n",
            "Requirement already satisfied: absl-py>=0.7.0 in /usr/local/lib/python3.6/dist-packages (from tensorflow) (0.10.0)\n",
            "Requirement already satisfied: astunparse==1.6.3 in /usr/local/lib/python3.6/dist-packages (from tensorflow) (1.6.3)\n",
            "Requirement already satisfied: scipy==1.4.1 in /usr/local/lib/python3.6/dist-packages (from tensorflow) (1.4.1)\n",
            "Requirement already satisfied: setuptools in /usr/local/lib/python3.6/dist-packages (from protobuf>=3.9.2->tensorflow) (50.3.0)\n",
            "Requirement already satisfied: google-auth<2,>=1.6.3 in /usr/local/lib/python3.6/dist-packages (from tensorboard<3,>=2.3.0->tensorflow) (1.17.2)\n",
            "Requirement already satisfied: markdown>=2.6.8 in /usr/local/lib/python3.6/dist-packages (from tensorboard<3,>=2.3.0->tensorflow) (3.2.2)\n",
            "Requirement already satisfied: google-auth-oauthlib<0.5,>=0.4.1 in /usr/local/lib/python3.6/dist-packages (from tensorboard<3,>=2.3.0->tensorflow) (0.4.1)\n",
            "Requirement already satisfied: werkzeug>=0.11.15 in /usr/local/lib/python3.6/dist-packages (from tensorboard<3,>=2.3.0->tensorflow) (1.0.1)\n",
            "Requirement already satisfied: tensorboard-plugin-wit>=1.6.0 in /usr/local/lib/python3.6/dist-packages (from tensorboard<3,>=2.3.0->tensorflow) (1.7.0)\n",
            "Requirement already satisfied: requests<3,>=2.21.0 in /usr/local/lib/python3.6/dist-packages (from tensorboard<3,>=2.3.0->tensorflow) (2.23.0)\n",
            "Requirement already satisfied: pyasn1-modules>=0.2.1 in /usr/local/lib/python3.6/dist-packages (from google-auth<2,>=1.6.3->tensorboard<3,>=2.3.0->tensorflow) (0.2.8)\n",
            "Requirement already satisfied: cachetools<5.0,>=2.0.0 in /usr/local/lib/python3.6/dist-packages (from google-auth<2,>=1.6.3->tensorboard<3,>=2.3.0->tensorflow) (4.1.1)\n",
            "Requirement already satisfied: rsa<5,>=3.1.4; python_version >= \"3\" in /usr/local/lib/python3.6/dist-packages (from google-auth<2,>=1.6.3->tensorboard<3,>=2.3.0->tensorflow) (4.6)\n",
            "Requirement already satisfied: importlib-metadata; python_version < \"3.8\" in /usr/local/lib/python3.6/dist-packages (from markdown>=2.6.8->tensorboard<3,>=2.3.0->tensorflow) (2.0.0)\n",
            "Requirement already satisfied: requests-oauthlib>=0.7.0 in /usr/local/lib/python3.6/dist-packages (from google-auth-oauthlib<0.5,>=0.4.1->tensorboard<3,>=2.3.0->tensorflow) (1.3.0)\n",
            "Requirement already satisfied: urllib3!=1.25.0,!=1.25.1,<1.26,>=1.21.1 in /usr/local/lib/python3.6/dist-packages (from requests<3,>=2.21.0->tensorboard<3,>=2.3.0->tensorflow) (1.24.3)\n",
            "Requirement already satisfied: certifi>=2017.4.17 in /usr/local/lib/python3.6/dist-packages (from requests<3,>=2.21.0->tensorboard<3,>=2.3.0->tensorflow) (2020.6.20)\n",
            "Requirement already satisfied: idna<3,>=2.5 in /usr/local/lib/python3.6/dist-packages (from requests<3,>=2.21.0->tensorboard<3,>=2.3.0->tensorflow) (2.10)\n",
            "Requirement already satisfied: chardet<4,>=3.0.2 in /usr/local/lib/python3.6/dist-packages (from requests<3,>=2.21.0->tensorboard<3,>=2.3.0->tensorflow) (3.0.4)\n",
            "Requirement already satisfied: pyasn1<0.5.0,>=0.4.6 in /usr/local/lib/python3.6/dist-packages (from pyasn1-modules>=0.2.1->google-auth<2,>=1.6.3->tensorboard<3,>=2.3.0->tensorflow) (0.4.8)\n",
            "Requirement already satisfied: zipp>=0.5 in /usr/local/lib/python3.6/dist-packages (from importlib-metadata; python_version < \"3.8\"->markdown>=2.6.8->tensorboard<3,>=2.3.0->tensorflow) (3.2.0)\n",
            "Requirement already satisfied: oauthlib>=3.0.0 in /usr/local/lib/python3.6/dist-packages (from requests-oauthlib>=0.7.0->google-auth-oauthlib<0.5,>=0.4.1->tensorboard<3,>=2.3.0->tensorflow) (3.1.0)\n",
            "Collecting tensorflow-gpu\n",
            "\u001b[?25l  Downloading https://files.pythonhosted.org/packages/18/99/ac32fd13d56e40d4c3e6150030132519997c0bb1f06f448d970e81b177e5/tensorflow_gpu-2.3.1-cp36-cp36m-manylinux2010_x86_64.whl (320.4MB)\n",
            "\u001b[K     |████████████████████████████████| 320.4MB 48kB/s \n",
            "\u001b[?25hRequirement already satisfied: protobuf>=3.9.2 in /usr/local/lib/python3.6/dist-packages (from tensorflow-gpu) (3.12.4)\n",
            "Requirement already satisfied: absl-py>=0.7.0 in /usr/local/lib/python3.6/dist-packages (from tensorflow-gpu) (0.10.0)\n",
            "Requirement already satisfied: opt-einsum>=2.3.2 in /usr/local/lib/python3.6/dist-packages (from tensorflow-gpu) (3.3.0)\n",
            "Requirement already satisfied: tensorflow-estimator<2.4.0,>=2.3.0 in /usr/local/lib/python3.6/dist-packages (from tensorflow-gpu) (2.3.0)\n",
            "Requirement already satisfied: termcolor>=1.1.0 in /usr/local/lib/python3.6/dist-packages (from tensorflow-gpu) (1.1.0)\n",
            "Requirement already satisfied: grpcio>=1.8.6 in /usr/local/lib/python3.6/dist-packages (from tensorflow-gpu) (1.32.0)\n",
            "Requirement already satisfied: gast==0.3.3 in /usr/local/lib/python3.6/dist-packages (from tensorflow-gpu) (0.3.3)\n",
            "Requirement already satisfied: h5py<2.11.0,>=2.10.0 in /usr/local/lib/python3.6/dist-packages (from tensorflow-gpu) (2.10.0)\n",
            "Requirement already satisfied: numpy<1.19.0,>=1.16.0 in /usr/local/lib/python3.6/dist-packages (from tensorflow-gpu) (1.18.5)\n",
            "Requirement already satisfied: tensorboard<3,>=2.3.0 in /usr/local/lib/python3.6/dist-packages (from tensorflow-gpu) (2.3.0)\n",
            "Requirement already satisfied: keras-preprocessing<1.2,>=1.1.1 in /usr/local/lib/python3.6/dist-packages (from tensorflow-gpu) (1.1.2)\n",
            "Requirement already satisfied: wrapt>=1.11.1 in /usr/local/lib/python3.6/dist-packages (from tensorflow-gpu) (1.12.1)\n",
            "Requirement already satisfied: wheel>=0.26 in /usr/local/lib/python3.6/dist-packages (from tensorflow-gpu) (0.35.1)\n",
            "Requirement already satisfied: six>=1.12.0 in /usr/local/lib/python3.6/dist-packages (from tensorflow-gpu) (1.15.0)\n",
            "Requirement already satisfied: astunparse==1.6.3 in /usr/local/lib/python3.6/dist-packages (from tensorflow-gpu) (1.6.3)\n",
            "Requirement already satisfied: google-pasta>=0.1.8 in /usr/local/lib/python3.6/dist-packages (from tensorflow-gpu) (0.2.0)\n",
            "Requirement already satisfied: setuptools in /usr/local/lib/python3.6/dist-packages (from protobuf>=3.9.2->tensorflow-gpu) (50.3.0)\n",
            "Requirement already satisfied: werkzeug>=0.11.15 in /usr/local/lib/python3.6/dist-packages (from tensorboard<3,>=2.3.0->tensorflow-gpu) (1.0.1)\n",
            "Requirement already satisfied: markdown>=2.6.8 in /usr/local/lib/python3.6/dist-packages (from tensorboard<3,>=2.3.0->tensorflow-gpu) (3.2.2)\n",
            "Requirement already satisfied: tensorboard-plugin-wit>=1.6.0 in /usr/local/lib/python3.6/dist-packages (from tensorboard<3,>=2.3.0->tensorflow-gpu) (1.7.0)\n",
            "Requirement already satisfied: google-auth-oauthlib<0.5,>=0.4.1 in /usr/local/lib/python3.6/dist-packages (from tensorboard<3,>=2.3.0->tensorflow-gpu) (0.4.1)\n",
            "Requirement already satisfied: google-auth<2,>=1.6.3 in /usr/local/lib/python3.6/dist-packages (from tensorboard<3,>=2.3.0->tensorflow-gpu) (1.17.2)\n",
            "Requirement already satisfied: requests<3,>=2.21.0 in /usr/local/lib/python3.6/dist-packages (from tensorboard<3,>=2.3.0->tensorflow-gpu) (2.23.0)\n",
            "Requirement already satisfied: importlib-metadata; python_version < \"3.8\" in /usr/local/lib/python3.6/dist-packages (from markdown>=2.6.8->tensorboard<3,>=2.3.0->tensorflow-gpu) (2.0.0)\n",
            "Requirement already satisfied: requests-oauthlib>=0.7.0 in /usr/local/lib/python3.6/dist-packages (from google-auth-oauthlib<0.5,>=0.4.1->tensorboard<3,>=2.3.0->tensorflow-gpu) (1.3.0)\n",
            "Requirement already satisfied: pyasn1-modules>=0.2.1 in /usr/local/lib/python3.6/dist-packages (from google-auth<2,>=1.6.3->tensorboard<3,>=2.3.0->tensorflow-gpu) (0.2.8)\n",
            "Requirement already satisfied: cachetools<5.0,>=2.0.0 in /usr/local/lib/python3.6/dist-packages (from google-auth<2,>=1.6.3->tensorboard<3,>=2.3.0->tensorflow-gpu) (4.1.1)\n",
            "Requirement already satisfied: rsa<5,>=3.1.4; python_version >= \"3\" in /usr/local/lib/python3.6/dist-packages (from google-auth<2,>=1.6.3->tensorboard<3,>=2.3.0->tensorflow-gpu) (4.6)\n",
            "Requirement already satisfied: chardet<4,>=3.0.2 in /usr/local/lib/python3.6/dist-packages (from requests<3,>=2.21.0->tensorboard<3,>=2.3.0->tensorflow-gpu) (3.0.4)\n",
            "Requirement already satisfied: certifi>=2017.4.17 in /usr/local/lib/python3.6/dist-packages (from requests<3,>=2.21.0->tensorboard<3,>=2.3.0->tensorflow-gpu) (2020.6.20)\n",
            "Requirement already satisfied: idna<3,>=2.5 in /usr/local/lib/python3.6/dist-packages (from requests<3,>=2.21.0->tensorboard<3,>=2.3.0->tensorflow-gpu) (2.10)\n",
            "Requirement already satisfied: urllib3!=1.25.0,!=1.25.1,<1.26,>=1.21.1 in /usr/local/lib/python3.6/dist-packages (from requests<3,>=2.21.0->tensorboard<3,>=2.3.0->tensorflow-gpu) (1.24.3)\n",
            "Requirement already satisfied: zipp>=0.5 in /usr/local/lib/python3.6/dist-packages (from importlib-metadata; python_version < \"3.8\"->markdown>=2.6.8->tensorboard<3,>=2.3.0->tensorflow-gpu) (3.2.0)\n",
            "Requirement already satisfied: oauthlib>=3.0.0 in /usr/local/lib/python3.6/dist-packages (from requests-oauthlib>=0.7.0->google-auth-oauthlib<0.5,>=0.4.1->tensorboard<3,>=2.3.0->tensorflow-gpu) (3.1.0)\n",
            "Requirement already satisfied: pyasn1<0.5.0,>=0.4.6 in /usr/local/lib/python3.6/dist-packages (from pyasn1-modules>=0.2.1->google-auth<2,>=1.6.3->tensorboard<3,>=2.3.0->tensorflow-gpu) (0.4.8)\n",
            "Installing collected packages: tensorflow-gpu\n",
            "Successfully installed tensorflow-gpu-2.3.1\n",
            "Requirement already satisfied: keras in /usr/local/lib/python3.6/dist-packages (2.4.3)\n",
            "Requirement already satisfied: h5py in /usr/local/lib/python3.6/dist-packages (from keras) (2.10.0)\n",
            "Requirement already satisfied: pyyaml in /usr/local/lib/python3.6/dist-packages (from keras) (3.13)\n",
            "Requirement already satisfied: scipy>=0.14 in /usr/local/lib/python3.6/dist-packages (from keras) (1.4.1)\n",
            "Requirement already satisfied: numpy>=1.9.1 in /usr/local/lib/python3.6/dist-packages (from keras) (1.18.5)\n",
            "Requirement already satisfied: six in /usr/local/lib/python3.6/dist-packages (from h5py->keras) (1.15.0)\n"
          ],
          "name": "stdout"
        }
      ]
    },
    {
      "cell_type": "markdown",
      "metadata": {
        "id": "ZxE5q5ZHAVZY"
      },
      "source": [
        "Import modules"
      ]
    },
    {
      "cell_type": "code",
      "metadata": {
        "id": "V5yf9uIpAUlp"
      },
      "source": [
        "import tensorflow as tf\n",
        "import matplotlib.pyplot as plt\n",
        "import keras\n",
        "import numpy as np\n",
        "import pandas as pd\n",
        "from google.colab import files\n",
        "import cv2\n",
        "import time"
      ],
      "execution_count": null,
      "outputs": []
    },
    {
      "cell_type": "markdown",
      "metadata": {
        "id": "mhLPMqR9Axla"
      },
      "source": [
        "*Check* version using"
      ]
    },
    {
      "cell_type": "code",
      "metadata": {
        "id": "m8l3mDDwAfNg",
        "outputId": "d2fe7fe8-6b07-412b-b772-3ebe9cc249a0",
        "colab": {
          "base_uri": "https://localhost:8080/",
          "height": 68
        }
      },
      "source": [
        "print(tf.__version__)\n",
        "print(keras.__version__)\n",
        "print(cv2.__version__)"
      ],
      "execution_count": null,
      "outputs": [
        {
          "output_type": "stream",
          "text": [
            "2.3.1\n",
            "2.4.3\n",
            "4.1.2\n"
          ],
          "name": "stdout"
        }
      ]
    },
    {
      "cell_type": "markdown",
      "metadata": {
        "id": "g0oAafkUAyBM"
      },
      "source": [
        "Import and unzip datasets using"
      ]
    },
    {
      "cell_type": "code",
      "metadata": {
        "id": "QE7uWCIgAm2j",
        "outputId": "69907286-4a26-4d35-c1c2-6cfbd2adb7bf",
        "colab": {
          "base_uri": "https://localhost:8080/",
          "height": 289
        }
      },
      "source": [
        "!wget -c https://github.com/D-Bhatta/OpenCV-Masker/raw/initial-code/videos/VID_20201024_210944.mp4"
      ],
      "execution_count": null,
      "outputs": [
        {
          "output_type": "stream",
          "text": [
            "--2020-10-24 19:46:32--  https://github.com/D-Bhatta/OpenCV-Masker/raw/initial-code/videos/VID_20201024_210944.mp4\n",
            "Resolving github.com (github.com)... 140.82.112.3\n",
            "Connecting to github.com (github.com)|140.82.112.3|:443... connected.\n",
            "HTTP request sent, awaiting response... 302 Found\n",
            "Location: https://raw.githubusercontent.com/D-Bhatta/OpenCV-Masker/initial-code/videos/VID_20201024_210944.mp4 [following]\n",
            "--2020-10-24 19:46:32--  https://raw.githubusercontent.com/D-Bhatta/OpenCV-Masker/initial-code/videos/VID_20201024_210944.mp4\n",
            "Resolving raw.githubusercontent.com (raw.githubusercontent.com)... 151.101.0.133, 151.101.64.133, 151.101.128.133, ...\n",
            "Connecting to raw.githubusercontent.com (raw.githubusercontent.com)|151.101.0.133|:443... connected.\n",
            "HTTP request sent, awaiting response... 200 OK\n",
            "Length: 41487963 (40M) [application/octet-stream]\n",
            "Saving to: ‘VID_20201024_210944.mp4’\n",
            "\n",
            "VID_20201024_210944 100%[===================>]  39.57M  57.8MB/s    in 0.7s    \n",
            "\n",
            "2020-10-24 19:46:33 (57.8 MB/s) - ‘VID_20201024_210944.mp4’ saved [41487963/41487963]\n",
            "\n"
          ],
          "name": "stdout"
        }
      ]
    },
    {
      "cell_type": "markdown",
      "metadata": {
        "id": "fTnTN0yzA8hY"
      },
      "source": [
        "Write Code"
      ]
    },
    {
      "cell_type": "markdown",
      "metadata": {
        "id": "KT7L_r4Brerb"
      },
      "source": [
        "The idea is to replace the red pixels with background pixels for each frame of the video"
      ]
    },
    {
      "cell_type": "markdown",
      "metadata": {
        "id": "sNmnm3kQruSG"
      },
      "source": [
        "First, we get the video file"
      ]
    },
    {
      "cell_type": "code",
      "metadata": {
        "id": "frhqKXTJr3lx"
      },
      "source": [
        "captured_video = cv2.VideoCapture(\"VID_20201024_210944.mp4\")\n",
        "time.sleep(2)"
      ],
      "execution_count": null,
      "outputs": []
    },
    {
      "cell_type": "markdown",
      "metadata": {
        "id": "zVEWh9vTsJVJ"
      },
      "source": [
        "For the first 100 frames, get the video background pixels\n"
      ]
    },
    {
      "cell_type": "code",
      "metadata": {
        "id": "idlZY6DNsZTs"
      },
      "source": [
        "background = 0\n",
        "for i in range(50):\n",
        "  return_value, background = captured_video.read()\n",
        "  if return_value == False:\n",
        "    continue"
      ],
      "execution_count": null,
      "outputs": []
    },
    {
      "cell_type": "markdown",
      "metadata": {
        "id": "eut3Y2lKsZxI"
      },
      "source": [
        "Flip the frame array so that we get the pixels mirrored"
      ]
    },
    {
      "cell_type": "code",
      "metadata": {
        "id": "kx1AGzS_tcNc"
      },
      "source": [
        "background = np.flip(background, axis=1)"
      ],
      "execution_count": null,
      "outputs": []
    },
    {
      "cell_type": "markdown",
      "metadata": {
        "id": "OR2pMSIYxfBk"
      },
      "source": [
        "Loop over each frame of the video\n",
        "\n",
        "\n",
        "\n",
        "*   Get a video frame img\n",
        "*   If the end of the file is reached and no frame is returned, break\n",
        "*   Flip the video frame img array so that we get it mirrored\n",
        "*   Convert from RGB to HSV, to make it easier to segment the colors\n",
        "*   Set the threshold values for `mask1` and `mask2`\n",
        "*   Add `mask1` and `mask2` to create a `mask1` that can be used to generate the outline of the red area\n",
        "*   Refine the mask according to detected color—Remove noise using `Opening`\n",
        "*   Dilate the mask to get the complete red area\n",
        "*   Get the rest of the image in `mask2`\n",
        "*   Replace the mask area with the background\n",
        "*   Set the rest of the image as it is\n",
        "*   Add the entire image to get a frame\n",
        "*   Show the output\n"
      ]
    },
    {
      "cell_type": "code",
      "metadata": {
        "id": "wXFRTpet5IiY",
        "outputId": "22a0f303-1f49-4b99-8c67-7c00634c462a",
        "colab": {
          "base_uri": "https://localhost:8080/",
          "height": 1000
        }
      },
      "source": [
        "count = 0\n",
        "fourcc = cv2.VideoWriter_fourcc(*'MP4V')\n",
        "out = cv2.VideoWriter(\"output_video.mp4\", fourcc, 20.0, (1920,1080))\n",
        "while captured_video.isOpened():\n",
        "  return_val, img = captured_video.read()\n",
        "  if not return_val:\n",
        "    break\n",
        "  count += 1\n",
        "  img = np.flip(img, axis=1)\n",
        "\n",
        "  hsv = cv2.cvtColor(img, cv2.COLOR_BGR2HSV)\n",
        "\n",
        "  # Creating initial masks\n",
        "  lower_red = np.array([100,40,40])\n",
        "  upper_red = np.array([100,255,255])\n",
        "  mask1 = cv2.inRange(hsv, lower_red, upper_red)\n",
        "\n",
        "  lower_red = np.array([155,40,40])\n",
        "  upper_red = np.array([180,255,255])\n",
        "  mask2 = cv2.inRange(hsv, lower_red, upper_red)\n",
        "\n",
        "  mask1 = mask1 + mask2\n",
        "\n",
        "  mask1 = cv2.morphologyEx(mask1, cv2.MORPH_OPEN, np.ones((3,3), np.uint8), iterations=1)\n",
        "  mask1 = cv2.dilate(mask1, np.ones((3,3), np.uint8), iterations=1)\n",
        "\n",
        "  mask2 = cv2.bitwise_not(mask1)\n",
        "\n",
        "  # Generate frame\n",
        "\n",
        "  res1 = cv2.bitwise_and(background, background, mask=mask1)\n",
        "  res2 = cv2.bitwise_and(img,img, mask=mask2)\n",
        "  final_output = cv2.addWeighted(res1, 1, res2, 1, 0)\n",
        "\n",
        "  out.write(final_output)\n",
        "  print(f\"written frame {count}\")\n",
        "\n",
        "captured_video.release()\n",
        "out.release()\n",
        "cv2.destroyAllWindows()"
      ],
      "execution_count": null,
      "outputs": [
        {
          "output_type": "stream",
          "text": [
            "written frame 1\n",
            "written frame 2\n",
            "written frame 3\n",
            "written frame 4\n",
            "written frame 5\n",
            "written frame 6\n",
            "written frame 7\n",
            "written frame 8\n",
            "written frame 9\n",
            "written frame 10\n",
            "written frame 11\n",
            "written frame 12\n",
            "written frame 13\n",
            "written frame 14\n",
            "written frame 15\n",
            "written frame 16\n",
            "written frame 17\n",
            "written frame 18\n",
            "written frame 19\n",
            "written frame 20\n",
            "written frame 21\n",
            "written frame 22\n",
            "written frame 23\n",
            "written frame 24\n",
            "written frame 25\n",
            "written frame 26\n",
            "written frame 27\n",
            "written frame 28\n",
            "written frame 29\n",
            "written frame 30\n",
            "written frame 31\n",
            "written frame 32\n",
            "written frame 33\n",
            "written frame 34\n",
            "written frame 35\n",
            "written frame 36\n",
            "written frame 37\n",
            "written frame 38\n",
            "written frame 39\n",
            "written frame 40\n",
            "written frame 41\n",
            "written frame 42\n",
            "written frame 43\n",
            "written frame 44\n",
            "written frame 45\n",
            "written frame 46\n",
            "written frame 47\n",
            "written frame 48\n",
            "written frame 49\n",
            "written frame 50\n",
            "written frame 51\n",
            "written frame 52\n",
            "written frame 53\n",
            "written frame 54\n",
            "written frame 55\n",
            "written frame 56\n",
            "written frame 57\n",
            "written frame 58\n",
            "written frame 59\n",
            "written frame 60\n",
            "written frame 61\n",
            "written frame 62\n",
            "written frame 63\n",
            "written frame 64\n",
            "written frame 65\n",
            "written frame 66\n",
            "written frame 67\n",
            "written frame 68\n",
            "written frame 69\n",
            "written frame 70\n",
            "written frame 71\n",
            "written frame 72\n",
            "written frame 73\n",
            "written frame 74\n",
            "written frame 75\n",
            "written frame 76\n",
            "written frame 77\n",
            "written frame 78\n",
            "written frame 79\n",
            "written frame 80\n",
            "written frame 81\n",
            "written frame 82\n",
            "written frame 83\n",
            "written frame 84\n",
            "written frame 85\n",
            "written frame 86\n",
            "written frame 87\n",
            "written frame 88\n",
            "written frame 89\n",
            "written frame 90\n",
            "written frame 91\n",
            "written frame 92\n",
            "written frame 93\n",
            "written frame 94\n",
            "written frame 95\n",
            "written frame 96\n",
            "written frame 97\n",
            "written frame 98\n",
            "written frame 99\n",
            "written frame 100\n",
            "written frame 101\n",
            "written frame 102\n",
            "written frame 103\n",
            "written frame 104\n",
            "written frame 105\n",
            "written frame 106\n",
            "written frame 107\n",
            "written frame 108\n",
            "written frame 109\n",
            "written frame 110\n",
            "written frame 111\n",
            "written frame 112\n",
            "written frame 113\n",
            "written frame 114\n",
            "written frame 115\n",
            "written frame 116\n",
            "written frame 117\n",
            "written frame 118\n",
            "written frame 119\n",
            "written frame 120\n",
            "written frame 121\n",
            "written frame 122\n",
            "written frame 123\n",
            "written frame 124\n",
            "written frame 125\n",
            "written frame 126\n",
            "written frame 127\n",
            "written frame 128\n",
            "written frame 129\n",
            "written frame 130\n",
            "written frame 131\n",
            "written frame 132\n",
            "written frame 133\n",
            "written frame 134\n",
            "written frame 135\n",
            "written frame 136\n",
            "written frame 137\n",
            "written frame 138\n",
            "written frame 139\n",
            "written frame 140\n",
            "written frame 141\n",
            "written frame 142\n",
            "written frame 143\n",
            "written frame 144\n",
            "written frame 145\n",
            "written frame 146\n",
            "written frame 147\n",
            "written frame 148\n",
            "written frame 149\n",
            "written frame 150\n",
            "written frame 151\n",
            "written frame 152\n",
            "written frame 153\n",
            "written frame 154\n",
            "written frame 155\n",
            "written frame 156\n",
            "written frame 157\n",
            "written frame 158\n",
            "written frame 159\n",
            "written frame 160\n",
            "written frame 161\n",
            "written frame 162\n",
            "written frame 163\n",
            "written frame 164\n",
            "written frame 165\n",
            "written frame 166\n",
            "written frame 167\n",
            "written frame 168\n",
            "written frame 169\n",
            "written frame 170\n",
            "written frame 171\n",
            "written frame 172\n",
            "written frame 173\n",
            "written frame 174\n",
            "written frame 175\n",
            "written frame 176\n",
            "written frame 177\n"
          ],
          "name": "stdout"
        }
      ]
    }
  ]
}
